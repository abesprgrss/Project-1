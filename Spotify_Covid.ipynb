{
 "cells": [
  {
   "cell_type": "code",

   "execution_count": 25,
   "id": "9d80a22c-c114-4e56-9e6d-7a046cd39d34",
   "metadata": {},
   "outputs": [
    {
     "data": {
      "text/html": [
       "<div>\n",
       "<style scoped>\n",
       "    .dataframe tbody tr th:only-of-type {\n",
       "        vertical-align: middle;\n",
       "    }\n",
       "\n",
       "    .dataframe tbody tr th {\n",
       "        vertical-align: top;\n",
       "    }\n",
       "\n",
       "    .dataframe thead th {\n",
       "        text-align: right;\n",
       "    }\n",
       "</style>\n",
       "<table border=\"1\" class=\"dataframe\">\n",
       "  <thead>\n",
       "    <tr style=\"text-align: right;\">\n",
       "      <th></th>\n",
       "      <th>Ad-Supported MAU (mil)</th>\n",
       "      <th>Ad-Supported MAU change (mil)</th>\n",
       "      <th>Premium Users (mil)</th>\n",
       "      <th>Premium Users change(mil)</th>\n",
       "      <th>Total Monthly Active Users (mil)</th>\n",
       "      <th>Total Monthly Active Users change(mil)</th>\n",
       "      <th>Total Revenue (m€)</th>\n",
       "      <th>Total Revenue Q. Change (m€)</th>\n",
       "      <th>Year</th>\n",
       "      <th>Quarter</th>\n",
       "    </tr>\n",
       "  </thead>\n",
       "  <tbody>\n",
       "    <tr>\n",
       "      <th>0</th>\n",
       "      <td>99</td>\n",
       "      <td>9</td>\n",
       "      <td>75</td>\n",
       "      <td>4</td>\n",
       "      <td>170</td>\n",
       "      <td>13</td>\n",
       "      <td>1,139.00</td>\n",
       "      <td>-10</td>\n",
       "      <td>2018</td>\n",
       "      <td>1</td>\n",
       "    </tr>\n",
       "    <tr>\n",
       "      <th>1</th>\n",
       "      <td>101</td>\n",
       "      <td>2</td>\n",
       "      <td>83</td>\n",
       "      <td>8</td>\n",
       "      <td>180</td>\n",
       "      <td>10</td>\n",
       "      <td>1,273.00</td>\n",
       "      <td>134</td>\n",
       "      <td>2018</td>\n",
       "      <td>2</td>\n",
       "    </tr>\n",
       "    <tr>\n",
       "      <th>2</th>\n",
       "      <td>109</td>\n",
       "      <td>8</td>\n",
       "      <td>87</td>\n",
       "      <td>4</td>\n",
       "      <td>191</td>\n",
       "      <td>11</td>\n",
       "      <td>1,352.00</td>\n",
       "      <td>79</td>\n",
       "      <td>2018</td>\n",
       "      <td>3</td>\n",
       "    </tr>\n",
       "    <tr>\n",
       "      <th>3</th>\n",
       "      <td>116</td>\n",
       "      <td>7</td>\n",
       "      <td>96</td>\n",
       "      <td>9</td>\n",
       "      <td>207</td>\n",
       "      <td>16</td>\n",
       "      <td>1,495.00</td>\n",
       "      <td>143</td>\n",
       "      <td>2018</td>\n",
       "      <td>4</td>\n",
       "    </tr>\n",
       "    <tr>\n",
       "      <th>4</th>\n",
       "      <td>123</td>\n",
       "      <td>7</td>\n",
       "      <td>100</td>\n",
       "      <td>4</td>\n",
       "      <td>217</td>\n",
       "      <td>10</td>\n",
       "      <td>1,511.00</td>\n",
       "      <td>16</td>\n",
       "      <td>2019</td>\n",
       "      <td>1</td>\n",
       "    </tr>\n",
       "  </tbody>\n",
       "</table>\n",
       "</div>"
      ],
      "text/plain": [
       "   Ad-Supported MAU (mil)  Ad-Supported MAU change (mil)  Premium Users (mil)  \\\n",
       "0                      99                              9                   75   \n",
       "1                     101                              2                   83   \n",
       "2                     109                              8                   87   \n",
       "3                     116                              7                   96   \n",
       "4                     123                              7                  100   \n",
       "\n",
       "   Premium Users change(mil)  Total Monthly Active Users (mil)  \\\n",
       "0                          4                               170   \n",
       "1                          8                               180   \n",
       "2                          4                               191   \n",
       "3                          9                               207   \n",
       "4                          4                               217   \n",
       "\n",
       "   Total Monthly Active Users change(mil) Total Revenue (m€)  \\\n",
       "0                                      13           1,139.00   \n",
       "1                                      10           1,273.00   \n",
       "2                                      11           1,352.00   \n",
       "3                                      16           1,495.00   \n",
       "4                                      10           1,511.00   \n",
       "\n",
       "   Total Revenue Q. Change (m€)  Year  Quarter  \n",
       "0                           -10  2018        1  \n",
       "1                           134  2018        2  \n",
       "2                            79  2018        3  \n",
       "3                           143  2018        4  \n",
       "4                            16  2019        1  "
      ]
     },
     "execution_count": 25,
     "metadata": {},
     "output_type": "execute_result"
    }
   ],
=======
   "execution_count": 4,
   "id": "9d80a22c-c114-4e56-9e6d-7a046cd39d34",
   "metadata": {},
   "outputs": [],

   "source": [
    "# Import Libraries\n",
    "%matplotlib notebook\n",
    "%matplotlib inline\n",
    "import os\n",
    "import csv\n",
    "import pandas as pd\n",
    "import numpy as np\n",
    "import matplotlib.pyplot as plt\n",

    "\n",
=======
    "import scipy.stats as stats\n",

    "# The path to our CSV file\n",
    "file = \"Resources/spotify_data.csv\"\n",
    "\n",
    "# Read our CSV file\n",
    "spotify_data_df = pd.read_csv(file)\n",
    "spotdf = spotify_data_df"
   ]
  },
  {
   "cell_type": "code",

   "execution_count": 20,
   "id": "934a6cfb-0406-40da-b3fb-a5efdfa11585",
   "metadata": {},
   "outputs": [
    {
     "data": {
      "text/plain": [
       "Index(['Ad-Supported MAU (mil)', 'Ad-Supported MAU change (mil)',\n",
       "       'Premium Users (mil)', 'Premium Users change(mil)',\n",
       "       'Total Monthly Active Users (mil)',\n",
       "       'Total Monthly Active Users change(mil)', 'Total Revenue (m€)',\n",
       "       'Total Revenue Q. Change (m€)', 'Year', 'Quarter'],\n",
       "      dtype='object')"
      ]
     },
     "execution_count": 20,
     "metadata": {},
     "output_type": "execute_result"
    }
   ],
   "source": [
    "spotify_data_df.columns"
   ]
  },
  {
   "cell_type": "code",
   "execution_count": 4,
=======
   "execution_count": 5,

   "id": "1e425102-baff-49a8-9bea-499725269e1d",
   "metadata": {
    "tags": []
   },
   "outputs": [],
   "source": [
    "#Spotify Premium user vs non premium between 2018-2021 Pie graph - kayla"
   ]
  },
  {
   "cell_type": "code",

   "execution_count": 5,
=======
   "execution_count": 6,

   "id": "65ffecdb-0bd2-4b7e-82c5-19cf88396116",
   "metadata": {},
   "outputs": [],
   "source": [
    "# % changes of 1st quarter 2018 - last quarter 2019 Bar graph - kayla"
   ]
  },
  {
   "cell_type": "code",

   "execution_count": 6,
=======
   "execution_count": 7,

   "id": "65f08d16-cf56-4a0d-b015-c7d72890c231",
   "metadata": {},
   "outputs": [],
   "source": [
    "# % changes of 1st quarter 2020 - last quarter 2021 Bar graph - ricky"
   ]
  },
  {
   "cell_type": "code",

   "execution_count": 7,
=======
   "execution_count": 8,

   "id": "b34c13c0-31f4-4556-bdb1-cdff085b2a4d",
   "metadata": {},
   "outputs": [],
   "source": [
    "#Difference Between 2018-2019 data & 2020-2021 data bar graph  - ricky"
   ]
  },
  {
   "cell_type": "code",

   "execution_count": 8,
=======
   "execution_count": 12,

   "id": "fb9d0a1b-a0b9-44be-b616-5b3fb5a3098f",
   "metadata": {},
   "outputs": [
    {
     "data": {
      "image/png": "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\n",
      "text/plain": [
       "<Figure size 432x288 with 1 Axes>"
      ]
     },
     "metadata": {
      "needs_background": "light"
     },
     "output_type": "display_data"
    },
    {
     "name": "stdout",
     "output_type": "stream",
     "text": [
      "For 2018-2019:\n",
      "The average monthly change of users is: 5.9\n",
      "The lower quartile of change in users is: 4.0\n",
      "The upper quartile of change in users is: 8.0\n",
      "The interquartile range of change in users is: 4.0\n",
      "The the median of change in users is: 5.0 \n",
      "Values below -2.0 could be outliers.\n",
      "Values above 14.0 could be outliers.\n",
      "-------------------\n",
      "For 2020-2021:\n",
      "The average monthly change of users is: 7.0\n",
      "The lower quartile of change in users is: 6.0\n",
      "The upper quartile of change in users is: 8.0\n",
      "The interquartile range of change in users is: 2.0\n",
      "The the median of change in users is: 7.0 \n",
      "Values below 3.0 could be outliers.\n",
      "Values above 11.0 could be outliers.\n"
     ]
    }
   ],
   "source": [
    "#Difference Between 2018-2019 data & 2020-2021 data Box plot /t test pvlaue - Aaron\n",
    "# Split the data into two arrays, 2018-2019 and 2020-2021.  This represents pre- and post-Covid data.\n",
    "# Using the column indicating the change in number of premium users between quarters we can best see the direct impact\n",
    "# of Covid on the subscribed user population.\n",
    "df_1 = spotdf.iloc[:9,:]\n",
    "df_2 = spotdf.iloc[9:,:]\n",
    "#print(\"Shape of new dataframes - {} , {}\".format(df_1.shape, df_2.shape))\n",
    "\n",
    "premchg1 = df_1[\"Premium Users change(mil)\"]\n",
    "premchg2 = df_2[\"Premium Users change(mil)\"]\n",
    "fig1, ax1 = plt.subplots()\n",
    "ax1.set_title('Change in Monthly Premium Users 2018-2021 (Mil)')\n",
    "ax1.set_ylabel('Change in Users (Millions)')\n",
    "ax1.boxplot([premchg1, premchg2])\n",
    "plt.ylim((-10,20))\n",
    "labels = ['2018-2019', '2020-2021']\n",
    "x = np.arange(len(labels))\n",
    "ax1.set_xticks(x, minor=True);ax1.set_xticklabels(labels)\n",
    "plt.show()\n",
    "\n",
    "# Below we show other data regarding the quarterly change in premium subscribers.\n",
    "\n",
    "print(\"For 2018-2019:\")\n",
    "quartiles1 = premchg1.quantile([.25,.5,.75])\n",
    "lowerq1 = quartiles1[0.25]\n",
    "upperq1 = quartiles1[0.75]\n",
    "iqr1 = upperq1-lowerq1\n",
    "avgchg1 = round(df_1[\"Premium Users change(mil)\"].mean(),1)\n",
    "print(f\"The average monthly change of users is: {avgchg1}\")\n",
    "print(f\"The lower quartile of change in users is: {lowerq1}\")\n",
    "print(f\"The upper quartile of change in users is: {upperq1}\")\n",
    "print(f\"The interquartile range of change in users is: {iqr1}\")\n",
    "print(f\"The the median of change in users is: {quartiles1[0.5]} \")\n",
    "lower_bound1 = lowerq1 - (1.5*iqr1)\n",
    "upper_bound1 = upperq1 + (1.5*iqr1)\n",
    "print(f\"Values below {lower_bound1} could be outliers.\")\n",
    "print(f\"Values above {upper_bound1} could be outliers.\")\n",
    "\n",
    "print(\"-------------------\")\n",
    "print(\"For 2020-2021:\")\n",
    "quartiles2 = premchg2.quantile([.25,.5,.75])\n",
    "lowerq2 = quartiles2[0.25]\n",
    "upperq2 = quartiles2[0.75]\n",
    "iqr2 = upperq2-lowerq2\n",
    "avgchg2 = round(df_2[\"Premium Users change(mil)\"].mean(),1)\n",
    "print(f\"The average monthly change of users is: {avgchg2}\")\n",
    "print(f\"The lower quartile of change in users is: {lowerq2}\")\n",
    "print(f\"The upper quartile of change in users is: {upperq2}\")\n",
    "print(f\"The interquartile range of change in users is: {iqr2}\")\n",
    "print(f\"The the median of change in users is: {quartiles2[0.5]} \")\n",
    "lower_bound2 = lowerq2 - (1.5*iqr2)\n",
    "upper_bound2 = upperq2 + (1.5*iqr2)\n",
    "print(f\"Values below {lower_bound2} could be outliers.\")\n",
    "print(f\"Values above {upper_bound2} could be outliers.\")"
   ]
  },
  {
   "cell_type": "code",
   "execution_count": 116,
   "id": "5bb3a1b6",
   "metadata": {},
   "outputs": [
    {
     "data": {
      "text/plain": [
       "<matplotlib.legend.Legend at 0x2562b648220>"
      ]
     },
     "execution_count": 116,
     "metadata": {},
     "output_type": "execute_result"
    },
    {
     "data": {
      "image/png": "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\n",
      "text/plain": [
       "<Figure size 432x288 with 1 Axes>"
      ]
     },
     "metadata": {
      "needs_background": "light"
     },
     "output_type": "display_data"
    }
   ],
   "source": [
    "# Histogram Plot of Data\n",
    "plt.subplot(2, 1, 2)\n",
    "plt.hist(premchg1, 10, density=True, alpha=0.7, label=\"population1\")\n",
    "plt.hist(premchg2, 10, density=True, alpha=0.7, label=\"population2\")\n",
    "plt.axvline(premchg1.mean(), color='k', linestyle='dashed', linewidth=1)\n",
    "plt.axvline(premchg2.mean(), color='k', linestyle='dashed', linewidth=1)\n",
    "plt.legend()  \n"
   ]
  },
  {
   "cell_type": "code",
   "execution_count": 117,
   "id": "869331e9",
   "metadata": {},
   "outputs": [
    {
     "data": {
      "text/plain": [
       "Ttest_indResult(statistic=-0.8049833219245712, pvalue=0.43423473280824654)"
      ]
     },
     "execution_count": 117,
     "metadata": {},
     "output_type": "execute_result"
    }
   ],
   "source": [
    "# Note: Setting equal_var=False performs Welch's t-test which does \n",
    "# not assume equal population variance\n",
    "stats.ttest_ind(premchg1, premchg2, equal_var=False)"
   ]
  },
  {
   "cell_type": "code",
   "execution_count": 71,
   "id": "c90c8bdf-c519-4dfd-8241-9cd1ef8d3401",
   "metadata": {},
   "outputs": [
    {
     "data": {
      "text/plain": [
       "<function matplotlib.pyplot.show(close=None, block=None)>"
      ]
     },
     "execution_count": 71,
     "metadata": {},
     "output_type": "execute_result"
    },
    {
     "data": {
      "image/png": "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\n",
      "text/plain": [
       "<Figure size 1080x720 with 1 Axes>"
      ]
     },
     "metadata": {
      "needs_background": "light"
     },
     "output_type": "display_data"
    }
   ],
   "source": [
    "#Bar Graph for revenue change per year 2018-2021 line graph - lizz\n",
    "#setting plot params\n",
    "plt.rcParams[\"figure.figsize\"] = [15, 10]\n",
    "plt.rcParams[\"figure.autolayout\"] = True\n",
    "\n",
    "plt.plot(spotify_data_df[\"Year\"],spotify_data_df[\"Total Revenue (m€)\"])\n",
    "plt.xticks([2018,2019,2020,2021])\n",
    "plt.yticks()\n",
    "plt.grid()\n",
    "plt.title(\"Total Revenue per Year\", fontsize=20)\n",
    "plt.xlabel(\"Year\", fontsize=15)\n",
    "plt.ylabel(\"Total Revenue (m€)\", fontsize=15)\n",
    "plt.savefig(\"Figures/Revenue_per_Year.png\")\n",
    "plt.show"
   ]
  },
  {
   "cell_type": "code",
   "execution_count": 77,
   "id": "bf27b1d8-545a-4caf-9090-980d2cd1b9e4",
   "metadata": {},
   "outputs": [
    {
     "data": {
      "text/plain": [
       "<function matplotlib.pyplot.show(close=None, block=None)>"
      ]
     },
     "execution_count": 77,
     "metadata": {},
     "output_type": "execute_result"
    },
    {
     "data": {
      "image/png": "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\n",
      "text/plain": [
       "<Figure size 1080x720 with 1 Axes>"
      ]
     },
     "metadata": {
      "needs_background": "light"
     },
     "output_type": "display_data"
    }
   ],
   "source": [
    "#Bar Graph for revenue change per quarter 2018 line graph -lizz\n",
    "#Make DF for Quarters in 2018\n",
    "year = spotify_data_df.loc[spotify_data_df[\"Year\"] == \"2018\"]\n",
    "plt.plot(year[\"Quarter\"],year[\"Total Revenue (m€)\"])\n",
    "\n",
    "plt.grid()\n",
    "plt.title(\"2018 Total Revenue per Quarter\", fontsize=20)\n",
    "plt.xlabel(\"Quarter\", fontsize=15)\n",
    "plt.ylabel(\"Total Revenue (m€)\", fontsize=15)\n",
    "\n",
    "plt.show"
   ]
  },
  {
   "cell_type": "code",
   "execution_count": null,
   "id": "dcb1b478-b3da-48e5-9693-e07a1b0d8c88",
   "metadata": {},
   "outputs": [],
   "source": [
    "#Bar Graph for revenue change per quarter 2019 line graph -lizz\n",
    "#Make DF for Quarters in 2019"
   ]
  },
  {
   "cell_type": "code",
   "execution_count": null,
   "id": "d05585d7-4174-44e9-a8bd-c865955a2d28",
   "metadata": {},
   "outputs": [],
   "source": [
    "#Bar Graph for revenue change per quarter 2020 line graph - lizz\n",
    "#Make DF for Quarters in 2020"
   ]
  },
  {
   "cell_type": "code",
   "execution_count": null,
   "id": "4257d38a-b72c-4622-b6ed-53f09512a83f",
   "metadata": {},
   "outputs": [],
   "source": [
    "#Bar Graph for revenue change per quarter 2021 line graph - lizz\n",
    "#Make DF for Quarters in 2021"
   ]
  }
 ],
 "metadata": {
  "kernelspec": {
   "display_name": "Python 3 (ipykernel)",
   "language": "python",
   "name": "python3"
  },
  "language_info": {
   "codemirror_mode": {
    "name": "ipython",
    "version": 3
   },
   "file_extension": ".py",
   "mimetype": "text/x-python",
   "name": "python",
   "nbconvert_exporter": "python",
   "pygments_lexer": "ipython3",
   "version": "3.9.7"
  }
 },
 "nbformat": 4,
 "nbformat_minor": 5
}
