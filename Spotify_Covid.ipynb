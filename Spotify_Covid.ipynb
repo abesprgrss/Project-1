{
 "cells": [
  {
   "cell_type": "code",
   "execution_count": 2,
   "id": "9d80a22c-c114-4e56-9e6d-7a046cd39d34",
   "metadata": {},
   "outputs": [
    {
     "data": {
      "text/html": [
       "<div>\n",
       "<style scoped>\n",
       "    .dataframe tbody tr th:only-of-type {\n",
       "        vertical-align: middle;\n",
       "    }\n",
       "\n",
       "    .dataframe tbody tr th {\n",
       "        vertical-align: top;\n",
       "    }\n",
       "\n",
       "    .dataframe thead th {\n",
       "        text-align: right;\n",
       "    }\n",
       "</style>\n",
       "<table border=\"1\" class=\"dataframe\">\n",
       "  <thead>\n",
       "    <tr style=\"text-align: right;\">\n",
       "      <th></th>\n",
       "      <th>Ad-Supported MAU (mil)</th>\n",
       "      <th>Ad-Supported MAU change (mil)</th>\n",
       "      <th>Premium Users (mil)</th>\n",
       "      <th>Premium Users change(mil)</th>\n",
       "      <th>Total Monthly Active Users (mil)</th>\n",
       "      <th>Total Monthly Active Users change(mil)</th>\n",
       "      <th>Total Revenue (m€)</th>\n",
       "      <th>Total Revenue Q. Change (m€)</th>\n",
       "      <th>Year</th>\n",
       "      <th>Quarter</th>\n",
       "    </tr>\n",
       "  </thead>\n",
       "  <tbody>\n",
       "    <tr>\n",
       "      <th>0</th>\n",
       "      <td>90</td>\n",
       "      <td>0</td>\n",
       "      <td>71</td>\n",
       "      <td>0</td>\n",
       "      <td>157</td>\n",
       "      <td>0</td>\n",
       "      <td>1,149.00</td>\n",
       "      <td>0</td>\n",
       "      <td>2017</td>\n",
       "      <td>4</td>\n",
       "    </tr>\n",
       "    <tr>\n",
       "      <th>1</th>\n",
       "      <td>99</td>\n",
       "      <td>9</td>\n",
       "      <td>75</td>\n",
       "      <td>4</td>\n",
       "      <td>170</td>\n",
       "      <td>13</td>\n",
       "      <td>1,139.00</td>\n",
       "      <td>-10</td>\n",
       "      <td>2018</td>\n",
       "      <td>1</td>\n",
       "    </tr>\n",
       "    <tr>\n",
       "      <th>2</th>\n",
       "      <td>101</td>\n",
       "      <td>2</td>\n",
       "      <td>83</td>\n",
       "      <td>8</td>\n",
       "      <td>180</td>\n",
       "      <td>10</td>\n",
       "      <td>1,273.00</td>\n",
       "      <td>134</td>\n",
       "      <td>2018</td>\n",
       "      <td>2</td>\n",
       "    </tr>\n",
       "    <tr>\n",
       "      <th>3</th>\n",
       "      <td>109</td>\n",
       "      <td>8</td>\n",
       "      <td>87</td>\n",
       "      <td>4</td>\n",
       "      <td>191</td>\n",
       "      <td>11</td>\n",
       "      <td>1,352.00</td>\n",
       "      <td>79</td>\n",
       "      <td>2018</td>\n",
       "      <td>3</td>\n",
       "    </tr>\n",
       "    <tr>\n",
       "      <th>4</th>\n",
       "      <td>116</td>\n",
       "      <td>7</td>\n",
       "      <td>96</td>\n",
       "      <td>9</td>\n",
       "      <td>207</td>\n",
       "      <td>16</td>\n",
       "      <td>1,495.00</td>\n",
       "      <td>143</td>\n",
       "      <td>2018</td>\n",
       "      <td>4</td>\n",
       "    </tr>\n",
       "  </tbody>\n",
       "</table>\n",
       "</div>"
      ],
      "text/plain": [
       "   Ad-Supported MAU (mil)  Ad-Supported MAU change (mil)  Premium Users (mil)  \\\n",
       "0                      90                              0                   71   \n",
       "1                      99                              9                   75   \n",
       "2                     101                              2                   83   \n",
       "3                     109                              8                   87   \n",
       "4                     116                              7                   96   \n",
       "\n",
       "   Premium Users change(mil)  Total Monthly Active Users (mil)  \\\n",
       "0                          0                               157   \n",
       "1                          4                               170   \n",
       "2                          8                               180   \n",
       "3                          4                               191   \n",
       "4                          9                               207   \n",
       "\n",
       "   Total Monthly Active Users change(mil) Total Revenue (m€)  \\\n",
       "0                                       0           1,149.00   \n",
       "1                                      13           1,139.00   \n",
       "2                                      10           1,273.00   \n",
       "3                                      11           1,352.00   \n",
       "4                                      16           1,495.00   \n",
       "\n",
       "   Total Revenue Q. Change (m€)  Year  Quarter  \n",
       "0                             0  2017        4  \n",
       "1                           -10  2018        1  \n",
       "2                           134  2018        2  \n",
       "3                            79  2018        3  \n",
       "4                           143  2018        4  "
      ]
     },
     "execution_count": 2,
     "metadata": {},
     "output_type": "execute_result"
    }
   ],
   "source": [
    "# Import Libraries\n",
    "%matplotlib notebook\n",
    "%matplotlib inline\n",
    "import os\n",
    "import csv\n",
    "import pandas as pd\n",
    "import numpy as np\n",
    "\n",
    "# The path to our CSV file\n",
    "file = \"Resources/spotify_data.csv\"\n",
    "\n",
    "# Read our CSV file\n",
    "spotify_data_df = pd.read_csv(file)\n",
    "spotify_data_df.head()"
   ]
  },
  {
   "cell_type": "code",
   "execution_count": null,
   "id": "1e425102-baff-49a8-9bea-499725269e1d",
   "metadata": {
    "tags": []
   },
   "outputs": [],
   "source": [
    "#Spotify Premium user vs non premium between 2018-2021 Pie graph - kayla"
   ]
  },
  {
   "cell_type": "code",
   "execution_count": null,
   "id": "65ffecdb-0bd2-4b7e-82c5-19cf88396116",
   "metadata": {},
   "outputs": [],
   "source": [
    "# % changes of 1st quarter 2018 - last quarter 2019 Bar graph - kayla"
   ]
  },
  {
   "cell_type": "code",
   "execution_count": null,
   "id": "65f08d16-cf56-4a0d-b015-c7d72890c231",
   "metadata": {},
   "outputs": [],
   "source": [
    "# % changes of 1st quarter 2020 - last quarter 2021 Bar graph - ricky"
   ]
  },
  {
   "cell_type": "code",
   "execution_count": null,
   "id": "b34c13c0-31f4-4556-bdb1-cdff085b2a4d",
   "metadata": {},
   "outputs": [],
   "source": [
    "#Difference Between 2018-2019 data & 2020-2021 data bar graph  - ricky"
   ]
  },
  {
   "cell_type": "code",
   "execution_count": null,
   "id": "fb9d0a1b-a0b9-44be-b616-5b3fb5a3098f",
   "metadata": {},
   "outputs": [],
   "source": [
    "#Difference Between 2018-2019 data & 2020-2021 data Box plot /t test pvlaue - Aaron\n",
    "spotdf = pd.DataFrame(data=spotify_data_df.data,columns=spotify_data_df.feature_names)\n",
    "spotdf['Total Revenue (m)'] = boston_dataset.target\n",
    "housing_data.head()"
   ]
  },
  {
   "cell_type": "code",
   "execution_count": null,
   "id": "c90c8bdf-c519-4dfd-8241-9cd1ef8d3401",
   "metadata": {},
   "outputs": [],
   "source": [
    "#Bar Graph for revenue change per year 2018-2021 line graph - lizz"
   ]
  },
  {
   "cell_type": "code",
   "execution_count": null,
   "id": "7651618b-d511-4b12-9899-8c6ff3d42983",
   "metadata": {},
   "outputs": [],
   "source": [
    "#Bar Graph for revenue change per quarter 2018 line graph - lizz"
   ]
  },
  {
   "cell_type": "code",
   "execution_count": null,
   "id": "bf27b1d8-545a-4caf-9090-980d2cd1b9e4",
   "metadata": {},
   "outputs": [],
   "source": [
    "#Bar Graph for revenue change per quarter 2019 line graph -lizz"
   ]
  },
  {
   "cell_type": "code",
   "execution_count": null,
   "id": "d05585d7-4174-44e9-a8bd-c865955a2d28",
   "metadata": {},
   "outputs": [],
   "source": [
    "#Bar Graph for revenue change per quarter 2020 line graph - lizz"
   ]
  },
  {
   "cell_type": "code",
   "execution_count": null,
   "id": "4257d38a-b72c-4622-b6ed-53f09512a83f",
   "metadata": {},
   "outputs": [],
   "source": [
    "#Bar Graph for revenue change per quarter 2021 line graph - lizz"
   ]
  }
 ],
 "metadata": {
  "kernelspec": {
   "display_name": "Python 3 (ipykernel)",
   "language": "python",
   "name": "python3"
  },
  "language_info": {
   "codemirror_mode": {
    "name": "ipython",
    "version": 3
   },
   "file_extension": ".py",
   "mimetype": "text/x-python",
   "name": "python",
   "nbconvert_exporter": "python",
   "pygments_lexer": "ipython3",
   "version": "3.9.7"
  }
 },
 "nbformat": 4,
 "nbformat_minor": 5
}
