{
 "cells": [
  {
   "cell_type": "code",
   "execution_count": 113,
   "id": "9d80a22c-c114-4e56-9e6d-7a046cd39d34",
   "metadata": {},
   "outputs": [],
   "source": [
    "# Import Libraries\n",
    "%matplotlib notebook\n",
    "%matplotlib inline\n",
    "import os\n",
    "import csv\n",
    "import pandas as pd\n",
    "import numpy as np\n",
    "import matplotlib.pyplot as plt\n",
    "import scipy.stats as stats\n",
    "# The path to our CSV file\n",
    "file = \"Resources/spotify_data.csv\"\n",
    "\n",
    "# Read our CSV file\n",
    "spotify_data_df = pd.read_csv(file)\n",
    "spotdf = spotify_data_df"
   ]
  },
  {
   "cell_type": "code",
   "execution_count": 114,
   "id": "1e425102-baff-49a8-9bea-499725269e1d",
   "metadata": {
    "tags": []
   },
   "outputs": [],
   "source": [
    "#Spotify Premium user vs non premium between 2018-2021 Pie graph - kayla"
   ]
  },
  {
   "cell_type": "code",
   "execution_count": null,
   "id": "65ffecdb-0bd2-4b7e-82c5-19cf88396116",
   "metadata": {},
   "outputs": [],
   "source": [
    "# % changes of 1st quarter 2018 - last quarter 2019 Bar graph - kayla"
   ]
  },
  {
   "cell_type": "code",
   "execution_count": null,
   "id": "65f08d16-cf56-4a0d-b015-c7d72890c231",
   "metadata": {},
   "outputs": [],
   "source": [
    "# % changes of 1st quarter 2020 - last quarter 2021 Bar graph - ricky"
   ]
  },
  {
   "cell_type": "code",
   "execution_count": null,
   "id": "b34c13c0-31f4-4556-bdb1-cdff085b2a4d",
   "metadata": {},
   "outputs": [],
   "source": [
    "#Difference Between 2018-2019 data & 2020-2021 data bar graph  - ricky"
   ]
  },
  {
   "cell_type": "code",
   "execution_count": 115,
   "id": "fb9d0a1b-a0b9-44be-b616-5b3fb5a3098f",
   "metadata": {},
   "outputs": [
    {
     "data": {
      "image/png": "[encoded data removed]",
      "text/plain": [
       "<Figure size 432x288 with 1 Axes>"
      ]
     },
     "metadata": {
      "needs_background": "light"
     },
     "output_type": "display_data"
    },
    {
     "name": "stdout",
     "output_type": "stream",
     "text": [
      "For 2018-2019:\n",
      "The lower quartile of change in users is: 4.0\n",
      "The upper quartile of change in users is: 8.0\n",
      "The interquartile range of change in users is: 4.0\n",
      "The the median of change in users is: 5.0 \n",
      "Values below -2.0 could be outliers.\n",
      "Values above 14.0 could be outliers.\n",
      "-------------------\n",
      "For 2020-2021:\n",
      "The lower quartile of change in users is: 6.0\n",
      "The upper quartile of change in users is: 8.0\n",
      "The interquartile range of change in users is: 2.0\n",
      "The the median of change in users is: 7.0 \n",
      "Values below 3.0 could be outliers.\n",
      "Values above 11.0 could be outliers.\n"
     ]
    }
   ],
   "source": [
    "#Difference Between 2018-2019 data & 2020-2021 data Box plot /t test pvlaue - Aaron\n",
    "# Split the data into two arrays, 2018-2019 and 2020-2021.  This represents pre- and post-Covid data.\n",
    "# Using the column indicating the change in number of premium users between quarters we can best see the direct impact\n",
    "# of Covid on the subscribed user population.\n",
    "df_1 = spotdf.iloc[:9,:]\n",
    "df_2 = spotdf.iloc[9:,:]\n",
    "#print(\"Shape of new dataframes - {} , {}\".format(df_1.shape, df_2.shape))\n",
    "\n",
    "premchg1 = df_1[\"Premium Users change(mil)\"]\n",
    "premchg2 = df_2[\"Premium Users change(mil)\"]\n",
    "fig1, ax1 = plt.subplots()\n",
    "ax1.set_title('Change in Monthly Premium Users 2018-2021 (Mil)')\n",
    "ax1.set_ylabel('Change in Users (Millions)')\n",
    "ax1.boxplot([premchg1, premchg2])\n",
    "plt.ylim((-10,20))\n",
    "labels = ['2018-2019', '2020-2021']\n",
    "x = np.arange(len(labels))\n",
    "ax1.set_xticks(x, minor=True);ax1.set_xticklabels(labels)\n",
    "plt.show()\n",
    "\n",
    "# Below we show other data regarding the quarterly change in premium subscribers.\n",
    "\n",
    "print(\"For 2018-2019:\")\n",
    "quartiles1 = premchg1.quantile([.25,.5,.75])\n",
    "lowerq1 = quartiles1[0.25]\n",
    "upperq1 = quartiles1[0.75]\n",
    "iqr1 = upperq1-lowerq1\n",
    "avgchg1 = df_1[\"Premium Users change(mil)\"].mean\n",
    "print(f\"The lower quartile of change in users is: {lowerq1}\")\n",
    "print(f\"The upper quartile of change in users is: {upperq1}\")\n",
    "print(f\"The interquartile range of change in users is: {iqr1}\")\n",
    "print(f\"The the median of change in users is: {quartiles1[0.5]} \")\n",
    "lower_bound1 = lowerq1 - (1.5*iqr1)\n",
    "upper_bound1 = upperq1 + (1.5*iqr1)\n",
    "print(f\"Values below {lower_bound1} could be outliers.\")\n",
    "print(f\"Values above {upper_bound1} could be outliers.\")\n",
    "\n",
    "print(\"-------------------\")\n",
    "print(\"For 2020-2021:\")\n",
    "quartiles2 = premchg2.quantile([.25,.5,.75])\n",
    "lowerq2 = quartiles2[0.25]\n",
    "upperq2 = quartiles2[0.75]\n",
    "iqr2 = upperq2-lowerq2\n",
    "print(f\"The lower quartile of change in users is: {lowerq2}\")\n",
    "print(f\"The upper quartile of change in users is: {upperq2}\")\n",
    "print(f\"The interquartile range of change in users is: {iqr2}\")\n",
    "print(f\"The the median of change in users is: {quartiles2[0.5]} \")\n",
    "lower_bound2 = lowerq2 - (1.5*iqr2)\n",
    "upper_bound2 = upperq2 + (1.5*iqr2)\n",
    "print(f\"Values below {lower_bound2} could be outliers.\")\n",
    "print(f\"Values above {upper_bound2} could be outliers.\")"
   ]
  },
  {
   "cell_type": "code",
   "execution_count": 116,
   "id": "5bb3a1b6",
   "metadata": {},
   "outputs": [
    {
     "data": {
      "text/plain": [
       "<matplotlib.legend.Legend at 0x2562b648220>"
      ]
     },
     "execution_count": 116,
     "metadata": {},
     "output_type": "execute_result"
    },
    {
     "data": {
      "image/png": "[encoded data removed]",
      "text/plain": [
       "<Figure size 432x288 with 1 Axes>"
      ]
     },
     "metadata": {
      "needs_background": "light"
     },
     "output_type": "display_data"
    }
   ],
   "source": [
    "# Histogram Plot of Data\n",
    "plt.subplot(2, 1, 2)\n",
    "plt.hist(premchg1, 10, density=True, alpha=0.7, label=\"population1\")\n",
    "plt.hist(premchg2, 10, density=True, alpha=0.7, label=\"population2\")\n",
    "plt.axvline(premchg1.mean(), color='k', linestyle='dashed', linewidth=1)\n",
    "plt.axvline(premchg2.mean(), color='k', linestyle='dashed', linewidth=1)\n",
    "plt.legend()  \n"
   ]
  },
  {
   "cell_type": "code",
   "execution_count": 117,
   "id": "869331e9",
   "metadata": {},
   "outputs": [
    {
     "data": {
      "text/plain": [
       "Ttest_indResult(statistic=-0.8049833219245712, pvalue=0.43423473280824654)"
      ]
     },
     "execution_count": 117,
     "metadata": {},
     "output_type": "execute_result"
    }
   ],
   "source": [
    "# Note: Setting equal_var=False performs Welch's t-test which does \n",
    "# not assume equal population variance\n",
    "stats.ttest_ind(premchg1, premchg2, equal_var=False)"
   ]
  },
  {
   "cell_type": "code",
   "execution_count": null,
   "id": "c90c8bdf-c519-4dfd-8241-9cd1ef8d3401",
   "metadata": {},
   "outputs": [],
   "source": [
    "#Bar Graph for revenue change per year 2018-2021 line graph - lizz"
   ]
  },
  {
   "cell_type": "code",
   "execution_count": null,
   "id": "7651618b-d511-4b12-9899-8c6ff3d42983",
   "metadata": {},
   "outputs": [],
   "source": [
    "#Bar Graph for revenue change per quarter 2018 line graph - lizz"
   ]
  },
  {
   "cell_type": "code",
   "execution_count": null,
   "id": "bf27b1d8-545a-4caf-9090-980d2cd1b9e4",
   "metadata": {},
   "outputs": [],
   "source": [
    "#Bar Graph for revenue change per quarter 2019 line graph -lizz"
   ]
  },
  {
   "cell_type": "code",
   "execution_count": null,
   "id": "d05585d7-4174-44e9-a8bd-c865955a2d28",
   "metadata": {},
   "outputs": [],
   "source": [
    "#Bar Graph for revenue change per quarter 2020 line graph - lizz"
   ]
  },
  {
   "cell_type": "code",
   "execution_count": null,
   "id": "4257d38a-b72c-4622-b6ed-53f09512a83f",
   "metadata": {},
   "outputs": [],
   "source": [
    "#Bar Graph for revenue change per quarter 2021 line graph - lizz"
   ]
  }
 ],
 "metadata": {
  "kernelspec": {
   "display_name": "Python 3 (ipykernel)",
   "language": "python",
   "name": "python3"
  },
  "language_info": {
   "codemirror_mode": {
    "name": "ipython",
    "version": 3
   },
   "file_extension": ".py",
   "mimetype": "text/x-python",
   "name": "python",
   "nbconvert_exporter": "python",
   "pygments_lexer": "ipython3",
   "version": "3.9.7"
  }
 },
 "nbformat": 4,
 "nbformat_minor": 5
}
